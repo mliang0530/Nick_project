{
 "cells": [
  {
   "cell_type": "code",
   "execution_count": 74,
   "metadata": {},
   "outputs": [],
   "source": [
    "#Documentation for yfinance https://pypi.org/project/yfinance/\n",
    "\n",
    "import yfinance as yf\n",
    "from sqlalchemy import create_engine\n",
    "import pandas as pd\n",
    "import json"
   ]
  },
  {
   "cell_type": "markdown",
   "metadata": {},
   "source": [
    "# Beginning of Stage 2 - Read stock price database tables from PostgreSQL and save as JSON files. One file for each stock.  \n",
    "JSON File format:  \n",
    "[[Date, Open, High, Low, Close, Volume], [Date, Open, High, Low, Close, Volume]...[Date, Open, High, Low, Close, Volume]]\n"
   ]
  },
  {
   "cell_type": "code",
   "execution_count": 75,
   "metadata": {},
   "outputs": [],
   "source": [
    "#Connect to PostgreSQL\n",
    "\n",
    "host = \"localhost\"\n",
    "user = \"postgres\"\n",
    "port = \"5432\"\n",
    "passwd = \"hawkeyes\"\n",
    "db = \"Proj2_stock_data\"\n",
    "\n",
    "engine = create_engine(f'postgresql://{user}:{passwd}@{host}:{port}/{db}')\n",
    "connection = engine.connect()\n"
   ]
  },
  {
   "cell_type": "code",
   "execution_count": 76,
   "metadata": {},
   "outputs": [],
   "source": [
    "#Function to create a dataframe from a PostgreSQL query\n",
    "def create_pandas_table(sql_query, database = connection):\n",
    "    table = pd.read_sql_query(sql_query, database)\n",
    "    return table"
   ]
  },
  {
   "cell_type": "code",
   "execution_count": 77,
   "metadata": {},
   "outputs": [],
   "source": [
    "#Query each stock's PostgreSQL table and convert to dataframe\n",
    "\n",
    "gspc_df = create_pandas_table('SELECT * FROM public.\"GSPC_hist\"')\n",
    "n225_df = create_pandas_table('SELECT * FROM public.\"N225_hist\"')\n",
    "hsi_df = create_pandas_table('SELECT * FROM public.\"HSI_hist\"')\n",
    "ssec_df = create_pandas_table('SELECT * FROM public.\"SSEC_hist\"')\n",
    "\n",
    "connection.close()"
   ]
  },
  {
   "cell_type": "code",
   "execution_count": 78,
   "metadata": {},
   "outputs": [],
   "source": [
    "gspc_df = gspc_df.drop(['Dividends', 'Stock Splits'], axis=1)\n",
    "gspc_df['Date'] = gspc_df['Date'].astype(str)\n",
    "gspc_lst = gspc_df.values.tolist()\n",
    "with open('gspc_hist.json', 'w') as F:\n",
    "    F.write(json.dumps(gspc_lst))"
   ]
  },
  {
   "cell_type": "code",
   "execution_count": 79,
   "metadata": {},
   "outputs": [],
   "source": [
    "hsi_df = hsi_df.drop(['Dividends', 'Stock Splits'], axis=1)\n",
    "hsi_df['Date'] = hsi_df['Date'].astype(str)\n",
    "hsi_lst = hsi_df.values.tolist()\n",
    "with open('hsi_hist.json', 'w') as F:\n",
    "    F.write(json.dumps(hsi_lst))"
   ]
  },
  {
   "cell_type": "code",
   "execution_count": 80,
   "metadata": {},
   "outputs": [],
   "source": [
    "n225_df = n225_df.drop(['Dividends', 'Stock Splits'], axis=1)\n",
    "n225_df['Date'] = n225_df['Date'].astype(str)\n",
    "n225_lst = n225_df.values.tolist()\n",
    "with open('n225_hist.json', 'w') as F:\n",
    "    F.write(json.dumps(n225_lst))"
   ]
  },
  {
   "cell_type": "code",
   "execution_count": 81,
   "metadata": {},
   "outputs": [],
   "source": [
    "ssec_df = ssec_df.drop(['Dividends', 'Stock Splits'], axis=1)\n",
    "ssec_df['Date'] = ssec_df['Date'].astype(str)\n",
    "ssec_lst = ssec_df.values.tolist()\n",
    "with open('ssec_hist.json', 'w') as F:\n",
    "    F.write(json.dumps(ssec_lst))"
   ]
  },
  {
   "cell_type": "markdown",
   "metadata": {},
   "source": [
    "# End of Stage 2 - JSON files can be pushed to endpoint URL's for each stock using Flask.  \n",
    "For example:  \n",
    "http://project2/gspc\n",
    "http://project2/n225\n",
    "http://project2/hsi\n",
    "http://project2/ssec . \n",
    "  \n",
    "This data can then be pulled into Javascript using d3.json and then used for table data.\n"
   ]
  }
 ],
 "metadata": {
  "language_info": {
   "codemirror_mode": {
    "name": "ipython",
    "version": 3
   },
   "file_extension": ".py",
   "mimetype": "text/x-python",
   "name": "python",
   "nbconvert_exporter": "python",
   "pygments_lexer": "ipython3",
   "version": "3.6.10-final"
  },
  "orig_nbformat": 2,
  "kernelspec": {
   "name": "python361064bitpythondatacondaab47c43dfe824d4eb95e9e8f15b48370",
   "display_name": "Python 3.6.10 64-bit ('PythonData': conda)"
  }
 },
 "nbformat": 4,
 "nbformat_minor": 2
}