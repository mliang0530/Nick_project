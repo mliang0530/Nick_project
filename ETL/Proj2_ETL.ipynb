{
 "cells": [
  {
   "cell_type": "code",
   "execution_count": 1,
   "metadata": {},
   "outputs": [],
   "source": [
    "#Documentation for yfinance https://pypi.org/project/yfinance/\n",
    "\n",
    "import yfinance as yf\n",
    "from sqlalchemy import create_engine\n",
    "import pandas as pd\n",
    "import json"
   ]
  },
  {
   "cell_type": "markdown",
   "metadata": {},
   "source": [
    "# Beginning of Stage 1 - EXTRACT stock data, TRANSFORM and LOAD into PostgresSQL database tables"
   ]
  },
  {
   "cell_type": "code",
   "execution_count": 2,
   "metadata": {
    "tags": []
   },
   "outputs": [],
   "source": [
    "# Use yfinance to read in information and Open/High/Low/Close/Volumen stock price history\n",
    "\n",
    "gspc = yf.Ticker(\"^GSPC\")\n",
    "gspc_info = gspc.info\n",
    "gspc_hist = gspc.history(period=\"3mo\")\n",
    "\n",
    "n225 = yf.Ticker(\"^N225\")\n",
    "n225_info = n225.info\n",
    "n225_hist = n225.history(period=\"3mo\")\n",
    "\n",
    "hsi = yf.Ticker(\"^HSI\")\n",
    "hsi_info = hsi.info\n",
    "hsi_hist = hsi.history(period=\"3mo\")\n",
    "\n",
    "ssec = yf.Ticker(\"000001.SS\")\n",
    "ssec_info = ssec.info\n",
    "ssec_hist = ssec.history(period=\"3mo\")\n"
   ]
  },
  {
   "cell_type": "code",
   "execution_count": 3,
   "metadata": {},
   "outputs": [],
   "source": [
    "#Connect to PostgreSQL\n",
    "\n",
    "host = \"localhost\"\n",
    "user = \"postgres\"\n",
    "port = \"5432\"\n",
    "passwd = \"hawkeyes\"\n",
    "db = \"Proj2_stock_data\"\n",
    "\n",
    "engine = create_engine(f'postgresql://{user}:{passwd}@{host}:{port}/{db}')\n",
    "connection = engine.connect()"
   ]
  },
  {
   "cell_type": "code",
   "execution_count": 4,
   "metadata": {},
   "outputs": [],
   "source": [
    "#Write each stock history to a PostgreSQL table in the Proj2_stock_data database\n",
    "\n",
    "gspc_hist.to_sql('GSPC_hist', con=connection, if_exists = 'replace', index=True)\n",
    "n225_hist.to_sql('N225_hist', con=connection, if_exists = 'replace', index=True)\n",
    "hsi_hist.to_sql('HSI_hist', con=connection, if_exists = 'replace', index=True)\n",
    "ssec_hist.to_sql('SSEC_hist', con=connection, if_exists = 'replace', index=True)\n",
    "\n",
    "connection.close()"
   ]
  },
  {
   "cell_type": "markdown",
   "metadata": {},
   "source": [
    "# End of Stage 1 - PostgreSQL database tables LOADED with historical stock data."
   ]
  }
 ],
 "metadata": {
  "language_info": {
   "codemirror_mode": {
    "name": "ipython",
    "version": 3
   },
   "file_extension": ".py",
   "mimetype": "text/x-python",
   "name": "python",
   "nbconvert_exporter": "python",
   "pygments_lexer": "ipython3",
   "version": "3.6.10-final"
  },
  "orig_nbformat": 2,
  "kernelspec": {
   "name": "python361064bitpythondatacondaab47c43dfe824d4eb95e9e8f15b48370",
   "display_name": "Python 3.6.10 64-bit ('PythonData': conda)"
  }
 },
 "nbformat": 4,
 "nbformat_minor": 2
}